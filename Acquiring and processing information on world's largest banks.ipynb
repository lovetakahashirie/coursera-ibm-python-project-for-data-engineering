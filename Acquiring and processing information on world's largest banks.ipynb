{
 "cells": [
  {
   "cell_type": "code",
   "execution_count": 65,
   "metadata": {},
   "outputs": [
    {
     "data": {
      "text/plain": [
       "'c:\\\\Users\\\\color\\\\Downloads'"
      ]
     },
     "execution_count": 65,
     "metadata": {},
     "output_type": "execute_result"
    }
   ],
   "source": [
    "import requests\n",
    "import sqlite3\n",
    "import pandas as pd\n",
    "import numpy as np\n",
    "from bs4 import BeautifulSoup\n",
    "import os\n",
    "from datetime import datetime\n",
    "os.getcwd()"
   ]
  },
  {
   "cell_type": "code",
   "execution_count": 106,
   "metadata": {},
   "outputs": [],
   "source": [
    "def log_progress(message):\n",
    "    with open('code_log.txt', 'a') as f:\n",
    "        f.write(str(datetime.now()) + ' : ' + message + '\\n')\n",
    "        f.write('\\n')\n",
    "        f.close()\n",
    "        print(str(datetime.now()) + ' : ' + message + '\\n')"
   ]
  },
  {
   "cell_type": "code",
   "execution_count": 74,
   "metadata": {},
   "outputs": [],
   "source": [
    "def extract(url, table_attribs):\n",
    "    page = requests.get(url).text\n",
    "    data = BeautifulSoup(page,'html.parser')\n",
    "    table = data.find_all('tbody')[0].find_all('tr')[1:]\n",
    "    df = pd.DataFrame(columns=table_attribs)\n",
    "    for row in table:\n",
    "        df.loc[len(df.index)] = [row.findAll('td')[1].text.strip(), row.findAll('td')[2].text.strip()]  \n",
    "\n",
    "    log_progress('Data extraction complete. Initiating Transformation process')\n",
    "    print(df)\n",
    "    return df"
   ]
  },
  {
   "cell_type": "code",
   "execution_count": 94,
   "metadata": {},
   "outputs": [],
   "source": [
    "def transform(df, csv_path):\n",
    "    exchange_rate = {}\n",
    "    for index, row in pd.read_csv(csv_path).iterrows():\n",
    "        exchange_rate[row[0]] = float(row[1])\n",
    "    df['MC_GBP_Billion'] = [np.round(float(x)*exchange_rate['GBP'],2) for x in df['MC_USD_Billion']]\n",
    "    df['MC_EUR_Billion'] = [np.round(float(x)*exchange_rate['EUR'],2) for x in df['MC_USD_Billion']]\n",
    "    df['MC_INR_Billion'] = [np.round(float(x)*exchange_rate['INR'],2) for x in df['MC_USD_Billion']]\n",
    "    log_progress('Data transformation complete. Initiating Loading process')\n",
    "    print(df)\n",
    "    return df"
   ]
  },
  {
   "cell_type": "code",
   "execution_count": 95,
   "metadata": {},
   "outputs": [],
   "source": [
    "def load_to_csv(df, csv_path):\n",
    "    df.to_csv(csv_path)\n",
    "    log_progress('Data saved to CSV file')"
   ]
  },
  {
   "cell_type": "code",
   "execution_count": 108,
   "metadata": {},
   "outputs": [],
   "source": [
    "def load_to_db(df, sql_connection, table_name):\n",
    "    df.to_sql(table_name, sql_connection, if_exists='replace', index=False)\n",
    "    log_progress('Data loaded to Database as a table, Executing queries')"
   ]
  },
  {
   "cell_type": "code",
   "execution_count": 111,
   "metadata": {},
   "outputs": [],
   "source": [
    "def run_query(query_statement, sql_connection):\n",
    "    print(query_statement)\n",
    "    query_output = pd.read_sql(query_statement, sql_connection)\n",
    "    print(query_output)\n",
    "    log_progress(f'Query -- {query_statement} -- Process Complete')"
   ]
  },
  {
   "cell_type": "code",
   "execution_count": 112,
   "metadata": {},
   "outputs": [
    {
     "name": "stdout",
     "output_type": "stream",
     "text": [
      "2024-03-18 23:42:20.348864 : Preliminaries complete. Initiating ETL process\n",
      "\n",
      "2024-03-18 23:42:21.179585 : Data extraction complete. Initiating Transformation process\n",
      "\n",
      "                                      Name MC_USD_Billion\n",
      "0                           JPMorgan Chase         432.92\n",
      "1                          Bank of America         231.52\n",
      "2  Industrial and Commercial Bank of China         194.56\n",
      "3               Agricultural Bank of China         160.68\n",
      "4                                HDFC Bank         157.91\n",
      "5                              Wells Fargo         155.87\n",
      "6                        HSBC Holdings PLC         148.90\n",
      "7                           Morgan Stanley         140.83\n",
      "8                  China Construction Bank         139.82\n",
      "9                            Bank of China         136.81\n",
      "2024-03-18 23:42:22.193489 : Data transformation complete. Initiating Loading process\n",
      "\n",
      "                                      Name MC_USD_Billion  MC_GBP_Billion  \\\n",
      "0                           JPMorgan Chase         432.92          346.34   \n",
      "1                          Bank of America         231.52          185.22   \n",
      "2  Industrial and Commercial Bank of China         194.56          155.65   \n",
      "3               Agricultural Bank of China         160.68          128.54   \n",
      "4                                HDFC Bank         157.91          126.33   \n",
      "5                              Wells Fargo         155.87          124.70   \n",
      "6                        HSBC Holdings PLC         148.90          119.12   \n",
      "7                           Morgan Stanley         140.83          112.66   \n",
      "8                  China Construction Bank         139.82          111.86   \n",
      "9                            Bank of China         136.81          109.45   \n",
      "\n",
      "   MC_EUR_Billion  MC_INR_Billion  \n",
      "0          402.62        35910.71  \n",
      "1          215.31        19204.58  \n",
      "2          180.94        16138.75  \n",
      "3          149.43        13328.41  \n",
      "4          146.86        13098.63  \n",
      "5          144.96        12929.42  \n",
      "6          138.48        12351.26  \n",
      "7          130.97        11681.85  \n",
      "8          130.03        11598.07  \n",
      "9          127.23        11348.39  \n",
      "2024-03-18 23:42:22.198645 : Data saved to CSV file\n",
      "\n",
      "2024-03-18 23:42:22.248055 : Data loaded to Database as a table, Executing queries\n",
      "\n",
      "SELECT * FROM Largest_banks\n",
      "                                      Name MC_USD_Billion  MC_GBP_Billion  \\\n",
      "0                           JPMorgan Chase         432.92          346.34   \n",
      "1                          Bank of America         231.52          185.22   \n",
      "2  Industrial and Commercial Bank of China         194.56          155.65   \n",
      "3               Agricultural Bank of China         160.68          128.54   \n",
      "4                                HDFC Bank         157.91          126.33   \n",
      "5                              Wells Fargo         155.87          124.70   \n",
      "6                        HSBC Holdings PLC         148.90          119.12   \n",
      "7                           Morgan Stanley         140.83          112.66   \n",
      "8                  China Construction Bank         139.82          111.86   \n",
      "9                            Bank of China         136.81          109.45   \n",
      "\n",
      "   MC_EUR_Billion  MC_INR_Billion  \n",
      "0          402.62        35910.71  \n",
      "1          215.31        19204.58  \n",
      "2          180.94        16138.75  \n",
      "3          149.43        13328.41  \n",
      "4          146.86        13098.63  \n",
      "5          144.96        12929.42  \n",
      "6          138.48        12351.26  \n",
      "7          130.97        11681.85  \n",
      "8          130.03        11598.07  \n",
      "9          127.23        11348.39  \n",
      "2024-03-18 23:42:22.251057 : Query -- SELECT * FROM Largest_banks -- Process Complete\n",
      "\n",
      "SELECT AVG(MC_GBP_Billion) FROM Largest_banks\n",
      "   AVG(MC_GBP_Billion)\n",
      "0              151.987\n",
      "2024-03-18 23:42:22.252057 : Query -- SELECT AVG(MC_GBP_Billion) FROM Largest_banks -- Process Complete\n",
      "\n",
      "SELECT Name from Largest_banks LIMIT 5\n",
      "                                      Name\n",
      "0                           JPMorgan Chase\n",
      "1                          Bank of America\n",
      "2  Industrial and Commercial Bank of China\n",
      "3               Agricultural Bank of China\n",
      "4                                HDFC Bank\n",
      "2024-03-18 23:42:22.253229 : Query -- SELECT Name from Largest_banks LIMIT 5 -- Process Complete\n",
      "\n"
     ]
    }
   ],
   "source": [
    "if os.path.exists('code_log.txt'):\n",
    "    os.remove('code_log.txt')\n",
    "    \n",
    "log_progress('Preliminaries complete. Initiating ETL process')\n",
    "\n",
    "url = 'https://web.archive.org/web/20230908091635/https://en.wikipedia.org/wiki/List_of_largest_banks'\n",
    "db_name = 'Banks.db'\n",
    "table_name = 'Largest_banks'\n",
    "csv_path = 'https://cf-courses-data.s3.us.cloud-object-storage.appdomain.cloud/IBMSkillsNetwork-PY0221EN-Coursera/labs/v2/exchange_rate.csv'\n",
    "table_attribs = [\"Name\",\"MC_USD_Billion\"]\n",
    "output_csv_path = 'Largest_banks_data.csv'\n",
    "log_file = 'code_log.txt'\n",
    "\n",
    "df = extract(url, table_attribs)\n",
    "df = transform(df, csv_path)\n",
    "load_to_csv(df, output_csv_path)\n",
    "\n",
    "sql_connection = sqlite3.connect(db_name)\n",
    "load_to_db(df, sql_connection, table_name)\n",
    "\n",
    "query = ['SELECT * FROM Largest_banks', 'SELECT AVG(MC_GBP_Billion) FROM Largest_banks', 'SELECT Name from Largest_banks LIMIT 5']\n",
    "for i in query:\n",
    "    run_query(i, sql_connection)\n",
    "\n",
    "sql_connection.close()"
   ]
  }
 ],
 "metadata": {
  "kernelspec": {
   "display_name": "Python 3",
   "language": "python",
   "name": "python3"
  },
  "language_info": {
   "codemirror_mode": {
    "name": "ipython",
    "version": 3
   },
   "file_extension": ".py",
   "mimetype": "text/x-python",
   "name": "python",
   "nbconvert_exporter": "python",
   "pygments_lexer": "ipython3",
   "version": "3.10.11"
  }
 },
 "nbformat": 4,
 "nbformat_minor": 2
}
